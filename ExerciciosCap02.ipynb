{
 "cells": [
  {
   "cell_type": "code",
   "execution_count": 4,
   "id": "47dbb371",
   "metadata": {},
   "outputs": [
    {
     "name": "stdout",
     "output_type": "stream",
     "text": [
      "[1, 2, 3, 4, 5, 6, 7, 8, 9, 10]\n"
     ]
    }
   ],
   "source": [
    "# Exercício 1 -  Imprima na tela os números de 1 a 10. Use uma lista para armazenar os números\n",
    "num = [1, 2, 3, 4, 5, 6, 7, 8, 9, 10]\n",
    "print(num)"
   ]
  },
  {
   "cell_type": "code",
   "execution_count": 6,
   "id": "8ecdfb5c",
   "metadata": {},
   "outputs": [
    {
     "data": {
      "text/plain": [
       "['obj1', 2, 'obj3', 4, 'obj5']"
      ]
     },
     "execution_count": 6,
     "metadata": {},
     "output_type": "execute_result"
    }
   ],
   "source": [
    "# Exercício 2 - crie uma lista de 5 objetos e imprima na tela\n",
    "lista1 = ['obj1', 2, 'obj3', 4, 'obj5']\n",
    "lista1"
   ]
  },
  {
   "cell_type": "code",
   "execution_count": 9,
   "id": "2e299b72",
   "metadata": {},
   "outputs": [
    {
     "data": {
      "text/plain": [
       "'Aprendendo Python'"
      ]
     },
     "execution_count": 9,
     "metadata": {},
     "output_type": "execute_result"
    }
   ],
   "source": [
    "# Exercício 3 - Crie duas strings e concatene as duas em uma terceira string\n",
    "s1 = 'Aprendendo'\n",
    "s2 = 'Python'\n",
    "s3 = s1 + ' ' + s2\n",
    "s3"
   ]
  },
  {
   "cell_type": "code",
   "execution_count": 11,
   "id": "c529cda8",
   "metadata": {},
   "outputs": [
    {
     "data": {
      "text/plain": [
       "3"
      ]
     },
     "execution_count": 11,
     "metadata": {},
     "output_type": "execute_result"
    }
   ],
   "source": [
    "# Exercício 4 - Crie uma tupla com os seguintes elementos: 1, 2, 2, 3, 4, 4, 4, 5 e depois utilize a função count do \n",
    "# objeto tupla para verificar quantas vezes o objeto 4 aparece na tela\n",
    "t1 = (1, 2, 2, 3, 4, 4, 4, 5)\n",
    "t1.count(4)"
   ]
  },
  {
   "cell_type": "code",
   "execution_count": 12,
   "id": "5c5a3d78",
   "metadata": {},
   "outputs": [
    {
     "data": {
      "text/plain": [
       "{}"
      ]
     },
     "execution_count": 12,
     "metadata": {},
     "output_type": "execute_result"
    }
   ],
   "source": [
    "# Exercício 5  - Crie um dicionário vazio e imprima na tela\n",
    "dct1 = {}\n",
    "dct1"
   ]
  },
  {
   "cell_type": "code",
   "execution_count": 13,
   "id": "6d00ae5e",
   "metadata": {},
   "outputs": [
    {
     "data": {
      "text/plain": [
       "{'key1': 2, 'key2': 4, 'key3': 6}"
      ]
     },
     "execution_count": 13,
     "metadata": {},
     "output_type": "execute_result"
    }
   ],
   "source": [
    "# Exercício 6 - Crie um dicionário com 3 chaves e 3 valores e imprima na tela\n",
    "dct2 = {'key1':2, 'key2':4, 'key3':6}\n",
    "dct2"
   ]
  },
  {
   "cell_type": "code",
   "execution_count": 14,
   "id": "72aec273",
   "metadata": {},
   "outputs": [
    {
     "data": {
      "text/plain": [
       "{'key1': 2, 'key2': 4, 'key3': 6, 'key4': 8}"
      ]
     },
     "execution_count": 14,
     "metadata": {},
     "output_type": "execute_result"
    }
   ],
   "source": [
    "# Exercício 7 - Adiciona mais um elemento ao dicionário criado no exercício anterior e imprima na tela\n",
    "dct2['key4'] = 8\n",
    "dct2"
   ]
  },
  {
   "cell_type": "code",
   "execution_count": 15,
   "id": "891fde7c",
   "metadata": {},
   "outputs": [
    {
     "data": {
      "text/plain": [
       "{'key1': 2, 'key2': 4, 'key3': [6, 8]}"
      ]
     },
     "execution_count": 15,
     "metadata": {},
     "output_type": "execute_result"
    }
   ],
   "source": [
    "# Exercício 8 - Crie um dicionário com 3 chaves e 3 valores. Um dos valores deve ser uma lista de 2 elementos numéricos.\n",
    "# Imprima o dicionário na tela\n",
    "dct3 = {'key1': 2, 'key2':4, 'key3': [6,8]}\n",
    "dct3"
   ]
  },
  {
   "cell_type": "code",
   "execution_count": 16,
   "id": "128961cf",
   "metadata": {},
   "outputs": [
    {
     "data": {
      "text/plain": [
       "['Python', (2, 3), {'key1': 2, 'key2': 4}, 8.4]"
      ]
     },
     "execution_count": 16,
     "metadata": {},
     "output_type": "execute_result"
    }
   ],
   "source": [
    "# Exercício 9 - Crie uma lista de 4 elementos. O primeiro elemento deve ser uma sting,\n",
    "# o segundo uma tupla de 2 elementos, o terceiro um dicionário com 2 chaves e 2 valores e \n",
    "# o quarto elemento um valor do tipo float.\n",
    "# Imprima a lista na tela.\n",
    "lista2 = [\"Python\", (2,3), {'key1':2, 'key2':4}, 8.4]\n",
    "lista2"
   ]
  },
  {
   "cell_type": "code",
   "execution_count": 19,
   "id": "68c7d567",
   "metadata": {},
   "outputs": [
    {
     "data": {
      "text/plain": [
       "'Cientista de Dados'"
      ]
     },
     "execution_count": 19,
     "metadata": {},
     "output_type": "execute_result"
    }
   ],
   "source": [
    "# Exercício 10 - Considere a string abaixo. Imprima na tela apenas os caracteres da posição 1 a 18.\n",
    "frase = 'Cientista de Dados é o profissional mais sexy do século XXI'\n",
    "frase[:18]"
   ]
  }
 ],
 "metadata": {
  "kernelspec": {
   "display_name": "Python 3 (ipykernel)",
   "language": "python",
   "name": "python3"
  },
  "language_info": {
   "codemirror_mode": {
    "name": "ipython",
    "version": 3
   },
   "file_extension": ".py",
   "mimetype": "text/x-python",
   "name": "python",
   "nbconvert_exporter": "python",
   "pygments_lexer": "ipython3",
   "version": "3.9.7"
  }
 },
 "nbformat": 4,
 "nbformat_minor": 5
}
